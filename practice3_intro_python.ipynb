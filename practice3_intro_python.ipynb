{
  "cells": [
    {
      "cell_type": "markdown",
      "metadata": {
        "id": "7ykSF9AJJ_Bi"
      },
      "source": [
        "# Практична робота №3\n",
        "## Тема: Умовні конструкції та логічні оператори у Python\n",
        "**Мета:** навчитися використовувати логічні оператори, умовні конструкції `if`, `if-elif-else`, складні логічні вирази для розв'язання економічних задач."
      ],
      "id": "7ykSF9AJJ_Bi"
    },
    {
      "cell_type": "markdown",
      "metadata": {
        "id": "0i3OzoirJ_Bl"
      },
      "source": [
        "## Інструкція\n",
        "1. Для умовних конструкцій використовується `if`, `elif`, `else`.\n",
        "2. Для логічних операцій використовуються `and`, `or`, `not`.\n",
        "3. Перевіряйте складні умови за допомогою дужок для правильного порядку виконання."
      ],
      "id": "0i3OzoirJ_Bl"
    },
    {
      "cell_type": "markdown",
      "metadata": {
        "id": "378mOAKqJ_Bl"
      },
      "source": [
        "## Завдання 1. Перевірка прибутковості\n",
        "Розв'язаний приклад:"
      ],
      "id": "378mOAKqJ_Bl"
    },
    {
      "cell_type": "code",
      "metadata": {
        "id": "iqRCphWlJ_Bl"
      },
      "execution_count": null,
      "outputs": [],
      "source": [
        "revenue = float(input('Введіть виручку компанії: '))\n",
        "costs = float(input('Введіть витрати компанії: '))\n",
        "profit = revenue - costs\n",
        "if profit > 0:\n",
        "    print('Компанія працює з прибутком')\n",
        "else:\n",
        "    print('Компанія працює у збиток')"
      ],
      "id": "iqRCphWlJ_Bl"
    },
    {
      "cell_type": "markdown",
      "metadata": {
        "id": "4Q6UuHa5J_Bm"
      },
      "source": [
        "#### Завдання для самостійного виконання:\n",
        "Компанія отримала виручку 150000 грн. Витрати – 120000 грн. Якщо прибуток менше 20000 грн, вивести 'Прибуток низький', інакше – 'Прибуток достатній'."
      ],
      "id": "4Q6UuHa5J_Bm"
    },
    {
      "cell_type": "code",
      "metadata": {
        "id": "9tGqoZRIJ_Bn"
      },
      "execution_count": null,
      "outputs": [],
      "source": [
        "# Тут має бути ваше рішення"
      ],
      "id": "9tGqoZRIJ_Bn"
    },
    {
      "cell_type": "markdown",
      "metadata": {
        "id": "gKohghE0J_Bn"
      },
      "source": [
        "## Завдання 2. Кредитна перевірка. Якщо місячний дохід клієнта банку більший ніж половина від суми позики, кредит може бути виданий, інакше - ні.\n",
        "Розв'язаний приклад:"
      ],
      "id": "gKohghE0J_Bn"
    },
    {
      "cell_type": "code",
      "metadata": {
        "id": "OyntE8qfJ_Bn"
      },
      "execution_count": null,
      "outputs": [],
      "source": [
        "loan_amount = float(input('Сума кредиту: '))\n",
        "income = float(input('Місячний дохід: '))\n",
        "if income >= 0.5 * loan_amount:\n",
        "    print('Кредит можна видати')\n",
        "else:\n",
        "    print('Кредит ризикований')"
      ],
      "id": "OyntE8qfJ_Bn"
    },
    {
      "cell_type": "markdown",
      "metadata": {
        "id": "vTcKkOx8J_Bn"
      },
      "source": [
        "#### Завдання для самостійного виконання:\n",
        "Клієнт просить кредит 100000 грн. Місячний дохід 25000 грн. Кредит вважається допустимим, якщо дохід не менше 30% від суми кредиту і не більше 50%."
      ],
      "id": "vTcKkOx8J_Bn"
    },
    {
      "cell_type": "code",
      "metadata": {
        "id": "KFMxxtRgJ_Bn"
      },
      "execution_count": null,
      "outputs": [],
      "source": [
        "# Тут має бути ваше рішення"
      ],
      "id": "KFMxxtRgJ_Bn"
    },
    {
      "cell_type": "markdown",
      "metadata": {
        "id": "OY92kBE8J_Bo"
      },
      "source": [
        "## Завдання 3. Оцінка рентабельності проекту. Рентабельність визначається за формулою - прибуток/витрати і виражається у відсотках. Прибуток в свою чергу це виручка - витрати.\n",
        "Розв'язаний приклад:"
      ],
      "id": "OY92kBE8J_Bo"
    },
    {
      "cell_type": "code",
      "metadata": {
        "id": "XRJYOHoHJ_Bo"
      },
      "execution_count": null,
      "outputs": [],
      "source": [
        "revenue = float(input('Виручка проекту: '))\n",
        "costs = float(input('Витрати на проект: '))\n",
        "profit_margin = (revenue - costs) / costs * 100\n",
        "if profit_margin >= 20:\n",
        "    print('Проект рентабельний')\n",
        "else:\n",
        "    print('Проект малорентабельний')"
      ],
      "id": "XRJYOHoHJ_Bo"
    },
    {
      "cell_type": "markdown",
      "metadata": {
        "id": "z45Ne1_bJ_Bo"
      },
      "source": [
        "#### Завдання для самостійного виконання:\n",
        "Проект приносить виручку 200000 грн. Витрати – 180000 грн. Вивести: 'Рентабельність висока', якщо маржа ≥15%, інакше 'Рентабельність низька'."
      ],
      "id": "z45Ne1_bJ_Bo"
    },
    {
      "cell_type": "code",
      "metadata": {
        "id": "iD-ZtvsqJ_Bo"
      },
      "execution_count": null,
      "outputs": [],
      "source": [
        "# Тут має бути ваше рішення"
      ],
      "id": "iD-ZtvsqJ_Bo"
    },
    {
      "cell_type": "markdown",
      "metadata": {
        "id": "zf1RKTqQJ_Bo"
      },
      "source": [
        "## Завдання 4. Знижка для клієнта\n",
        "Розв'язаний приклад:"
      ],
      "id": "zf1RKTqQJ_Bo"
    },
    {
      "cell_type": "code",
      "metadata": {
        "id": "AtfV8RuPJ_Bo"
      },
      "execution_count": null,
      "outputs": [],
      "source": [
        "purchase = float(input('Сума покупки: '))\n",
        "if purchase > 1000:\n",
        "    discount = purchase * 0.05\n",
        "else:\n",
        "    discount = 0\n",
        "total = purchase - discount\n",
        "print('Сума до сплати:', total)"
      ],
      "id": "AtfV8RuPJ_Bo"
    },
    {
      "cell_type": "markdown",
      "metadata": {
        "id": "dRfn9JddJ_Bo"
      },
      "source": [
        "#### Завдання для самостійного виконання:\n",
        "Клієнт купив товари на 2500 грн. Якщо покупка більше 2000 грн – знижка 7%, інакше – 3%. Обчислити суму до сплати."
      ],
      "id": "dRfn9JddJ_Bo"
    },
    {
      "cell_type": "code",
      "metadata": {
        "id": "2_G6hJn_J_Bo"
      },
      "execution_count": null,
      "outputs": [],
      "source": [
        "# Тут має бути ваше рішення"
      ],
      "id": "2_G6hJn_J_Bo"
    },
    {
      "cell_type": "markdown",
      "metadata": {
        "id": "i3I5Ozz0J_Bp"
      },
      "source": [
        "## Завдання 5. Кваліфікація працівника\n",
        "Розв'язаний приклад:"
      ],
      "id": "i3I5Ozz0J_Bp"
    },
    {
      "cell_type": "code",
      "metadata": {
        "id": "KD_OUgk4J_Bp"
      },
      "execution_count": null,
      "outputs": [],
      "source": [
        "experience = int(input('Роки досвіду: '))\n",
        "education = input('Вища освіта (так/ні): ').lower()\n",
        "if experience >= 5 and education == 'так':\n",
        "    print('Кандидат підходить')\n",
        "else:\n",
        "    print('Кандидат не підходить')"
      ],
      "id": "KD_OUgk4J_Bp"
    },
    {
      "cell_type": "markdown",
      "metadata": {
        "id": "1b3MdVKVJ_Bp"
      },
      "source": [
        "#### Завдання для самостійного виконання:\n",
        "Працівник має 3 роки досвіду та вищу освіту. Якщо досвід ≥4 років або освіта є вищою, вивести 'Кандидат може бути розглянутий', інакше – 'Відмовлено'."
      ],
      "id": "1b3MdVKVJ_Bp"
    },
    {
      "cell_type": "code",
      "metadata": {
        "id": "3rANr-ApJ_Bp"
      },
      "execution_count": null,
      "outputs": [],
      "source": [
        "# Тут має бути ваше рішення"
      ],
      "id": "3rANr-ApJ_Bp"
    },
    {
      "cell_type": "markdown",
      "metadata": {
        "id": "pFRtepC4J_Bp"
      },
      "source": [
        "## Варіанти індивідуальних завдань (ІДЗ)\n",
        "Розрахунок різних показників з умовами для економічної тематики."
      ],
      "id": "pFRtepC4J_Bp"
    },
    {
      "cell_type": "code",
      "metadata": {
        "id": "9vf1uKw2J_Bp"
      },
      "execution_count": null,
      "outputs": [],
      "source": [
        "# Варіант 1: Клієнт вклав гроші у депозит. Відсотки нараховуються, якщо сума > 50000 грн. Розрахувати прибуток.\n",
        "# Варіант 2: Компанія отримала виручку та витрати. Вивести 'прибуток високий', якщо маржа ≥25%, 'середній' 10–25%, 'низький' <10%.\n",
        "# Варіант 3: Працівник подає заявку на премію. Премія надається, якщо відпрацьовано ≥180 годин і оцінка ≥4. Розрахувати, чи премія призначена.\n",
        "# Варіант 4: Покупець отримує знижку за кількість товарів: ≥10 шт – 10%, ≥5 шт – 5%, інакше 0%. Розрахувати суму до сплати.\n",
        "# Варіант 5: Клієнт запитує кредит. Дозволяється, якщо дохід ≥40% від суми кредиту, інакше відмовити.\n",
        "# Варіант 6: Підприємець оцінює проект: прибуток > 50000 і маржа ≥20% – 'успішний', інакше 'ризикований'.\n",
        "# Варіант 7: Працівник претендує на підвищення: досвід ≥5 років або керівна посада – 'можна розглянути'.\n",
        "# Варіант 8: Продаж товару з бонусом: якщо продажі >100 одиниць і виручка >200000 грн – бонус 5%, інакше 0%.\n",
        "# Варіант 9: Фірма орендує офіс та платить зарплати. Якщо прибуток ≥30000 грн – 'ефективно', інакше 'неефективно'.\n",
        "# Варіант 10: Клієнт купує пакет послуг. Якщо загальна сума >10000 грн або він постійний клієнт – надається знижка 10%, інакше – 0%."
      ],
      "id": "9vf1uKw2J_Bp"
    },
    {
      "cell_type": "code",
      "metadata": {
        "id": "kdydvXzdJ_Bp"
      },
      "execution_count": null,
      "outputs": [],
      "source": [
        "# Тут має бути ваше рішення для свого варіанту"
      ],
      "id": "kdydvXzdJ_Bp"
    }
  ],
  "metadata": {
    "kernelspec": {
      "display_name": "Python 3",
      "language": "python",
      "name": "python3"
    },
    "language_info": {
      "name": "python",
      "version": "3.10"
    },
    "colab": {
      "provenance": []
    }
  },
  "nbformat": 4,
  "nbformat_minor": 5
}