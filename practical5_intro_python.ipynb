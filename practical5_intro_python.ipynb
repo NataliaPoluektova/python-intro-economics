{
  "cells": [
    {
      "cell_type": "markdown",
      "metadata": {
        "id": "tyfWc8la_7UV"
      },
      "source": [
        "# Практична робота №5\n",
        "## Тема: Функції в програмуванні\n",
        "**Мета:** навчитися структурувати програмний код за допомогою функцій, використовувати локальні та глобальні змінні, параметри та оператор `return`."
      ],
      "id": "tyfWc8la_7UV"
    },
    {
      "cell_type": "markdown",
      "metadata": {
        "id": "OmqggLoS_7UX"
      },
      "source": [
        "## Інструкція\n",
        "1. Функції допомагають структурувати код та повторно використовувати блоки обчислень.\n",
        "2. Локальні змінні існують тільки всередині функції, глобальні – поза функцією.\n",
        "3. Оператор `return` повертає значення із функції.\n",
        "4. Параметри передають дані у функцію, аргументи – конкретні значення при виклику."
      ],
      "id": "OmqggLoS_7UX"
    },
    {
      "cell_type": "markdown",
      "metadata": {
        "id": "kkQU5ejW_7UY"
      },
      "source": [
        "## Завдання 1. Розрахунок податку з продажу\n",
        "Розв'язаний приклад:"
      ],
      "id": "kkQU5ejW_7UY"
    },
    {
      "cell_type": "code",
      "metadata": {
        "id": "y_Au1za-_7UY"
      },
      "execution_count": null,
      "outputs": [],
      "source": [
        "def sales_tax(amount, tax_rate):\n",
        "    tax = amount * tax_rate\n",
        "    return tax\n",
        "\n",
        "amount = float(input(\"Введіть суму продажу: \"))\n",
        "rate = float(input(\"Введіть податкову ставку (наприклад, 0.2 для 20%): \"))\n",
        "\n",
        "tax, net = sales_tax(amount, rate)\n",
        "print(\"Податок:\", tax)\n"
      ],
      "id": "y_Au1za-_7UY"
    },
    {
      "cell_type": "markdown",
      "metadata": {
        "id": "0kWOAJgl_7UZ"
      },
      "source": [
        "#### Завдання для самостійного виконання:\n",
        "Завдання 1. Розрахунок податку з доходу\n",
        "\n",
        "Напишіть функцію, яка приймає суму доходу і відсоток податку, повертає чистий дохід після його сплати."
      ],
      "id": "0kWOAJgl_7UZ"
    },
    {
      "cell_type": "code",
      "metadata": {
        "id": "WhZvEWD9_7UZ"
      },
      "execution_count": null,
      "outputs": [],
      "source": [
        "# Тут має бути ваше рішення"
      ],
      "id": "WhZvEWD9_7UZ"
    },
    {
      "cell_type": "markdown",
      "metadata": {
        "id": "DD9AAKSx_7UZ"
      },
      "source": [
        "## Завдання 2. Депозит з щомісячним нарахуванням відсотків\n",
        "Розв'язаний приклад:"
      ],
      "id": "DD9AAKSx_7UZ"
    },
    {
      "cell_type": "code",
      "metadata": {
        "id": "x97lMToA_7Ua"
      },
      "execution_count": null,
      "outputs": [],
      "source": [
        "def deposit_growth(amount, monthly_rate, months):\n",
        "    for i in range(1, months + 1):\n",
        "        amount += amount * monthly_rate\n",
        "        print(f\"Місяць {i}: {round(amount, 2)} грн\")\n",
        "    return amount\n",
        "\n",
        "start = float(input(\"Сума депозиту: \"))\n",
        "rate = float(input(\"Місячна ставка (наприклад, 0.01 для 1%): \"))\n",
        "months = int(input(\"Кількість місяців: \"))\n",
        "\n",
        "final_amount = deposit_growth(start, rate, months)\n",
        "print(\"Кінцева сума:\", round(final_amount, 2))"
      ],
      "id": "x97lMToA_7Ua"
    },
    {
      "cell_type": "markdown",
      "metadata": {
        "id": "RTGNwiwp_7Ua"
      },
      "source": [
        "#### Завдання для самостійного виконання:\n",
        "Накопичення на покупку авто\n",
        "\n",
        "Клієнт щомісяця відкладає певну суму грошей на рахунок у банку. Банк щомісяця нараховує відсотки на всю накопичену суму.\n",
        "Напишіть функцію, яка моделює цей процес і виводить баланс рахунку після кожного місяця."
      ],
      "id": "RTGNwiwp_7Ua"
    },
    {
      "cell_type": "code",
      "metadata": {
        "id": "jT-OYFxE_7Ua"
      },
      "execution_count": null,
      "outputs": [],
      "source": [
        "# Тут має бути ваше рішення"
      ],
      "id": "jT-OYFxE_7Ua"
    },
    {
      "cell_type": "markdown",
      "metadata": {
        "id": "rN15GUan_7Ua"
      },
      "source": [
        "## Завдання 3. Погашення кредиту з відсотками\n",
        "Розв'язаний приклад:"
      ],
      "id": "rN15GUan_7Ua"
    },
    {
      "cell_type": "code",
      "metadata": {
        "id": "xXOLscrs_7Ua"
      },
      "execution_count": null,
      "outputs": [],
      "source": [
        "def loan_schedule(loan, monthly_rate, months):\n",
        "    for i in range(1, months + 1):\n",
        "        loan += loan * monthly_rate\n",
        "        payment = loan / (months - i + 1)\n",
        "        loan -= payment\n",
        "        print(f\"Місяць {i}: платіж = {round(payment,2)} грн, залишок боргу = {round(loan,2)} грн\")\n",
        "\n",
        "loan = float(input(\"Сума кредиту: \"))\n",
        "rate = float(input(\"Місячна відсоткова ставка (наприклад, 0.02 для 2%): \"))\n",
        "months = int(input(\"Кількість місяців: \"))\n",
        "\n",
        "loan_schedule(loan, rate, months)"
      ],
      "id": "xXOLscrs_7Ua"
    },
    {
      "cell_type": "markdown",
      "metadata": {
        "id": "Bu-tmHxT_7Ub"
      },
      "source": [
        "#### Завдання для самостійного виконання:\n",
        "Створіть функцію, яка приймає суму кредиту, кількість місяців і щомісячну ставку.\n",
        "Програма повинна обчислити суму боргу після кожного місяця та вивести номер місяця, коли сумма боргу перевисить деяку порогову суму."
      ],
      "id": "Bu-tmHxT_7Ub"
    },
    {
      "cell_type": "code",
      "metadata": {
        "id": "p4N4rsfx_7Ub"
      },
      "execution_count": null,
      "outputs": [],
      "source": [
        "# Тут має бути ваше рішення"
      ],
      "id": "p4N4rsfx_7Ub"
    },
    {
      "cell_type": "markdown",
      "metadata": {
        "id": "lH0rpoiC_7Ub"
      },
      "source": [
        "## Завдання 4. Прибуток компанії по місяцях\n",
        "\n",
        "Розв'язаний приклад:"
      ],
      "id": "lH0rpoiC_7Ub"
    },
    {
      "cell_type": "code",
      "metadata": {
        "id": "ALrZenHK_7Ub"
      },
      "execution_count": null,
      "outputs": [],
      "source": [
        "def monthly_profit(revenues, costs):\n",
        "    for i in range(len(revenues)):\n",
        "        profit = revenues[i] - costs[i]\n",
        "        if profit >= 0:\n",
        "            print(f\"Місяць {i+1}: прибуток = {profit} грн\")\n",
        "        else:\n",
        "            print(f\"Місяць {i+1}: збиток = {profit} грн\")\n",
        "\n",
        "revenues = [120000, 95000, 134000, 80000]\n",
        "costs =    [100000, 100000, 120000, 90000]\n",
        "\n",
        "monthly_profit(revenues, costs)"
      ],
      "id": "ALrZenHK_7Ub"
    },
    {
      "cell_type": "markdown",
      "metadata": {
        "id": "wvtFIpi5_7Ub"
      },
      "source": [
        "#### Завдання для самостійного виконання:\n",
        "Створіть функцію, яка приймає списки доходів та витрат за кілька місяців.\n",
        "Функція повинна порахувати прибуток по кожному місяцю і вивести, де підприємство працювало зі збитком."
      ],
      "id": "wvtFIpi5_7Ub"
    },
    {
      "cell_type": "code",
      "metadata": {
        "id": "bCBjRsN-_7Ub"
      },
      "execution_count": null,
      "outputs": [],
      "source": [
        "# Тут має бути ваше рішення"
      ],
      "id": "bCBjRsN-_7Ub"
    },
    {
      "cell_type": "markdown",
      "metadata": {
        "id": "2vWRg1ko_7Ub"
      },
      "source": [
        "## Завдання 5. Окупність інвестицій\n",
        "Розв'язаний приклад:"
      ],
      "id": "2vWRg1ko_7Ub"
    },
    {
      "cell_type": "code",
      "metadata": {
        "id": "Cf9sGilw_7Ub"
      },
      "execution_count": null,
      "outputs": [],
      "source": [
        "def investment_return(investment, monthly_profit):\n",
        "    months = 0\n",
        "    total_profit = 0\n",
        "    while total_profit < investment:\n",
        "        total_profit += monthly_profit\n",
        "        months += 1\n",
        "    return months\n",
        "\n",
        "inv = float(input(\"Сума інвестицій: \"))\n",
        "profit = float(input(\"Щомісячний прибуток: \"))\n",
        "\n",
        "months = investment_return(inv, profit)\n",
        "print(f\"Інвестиції окупляться за {months} місяців\")"
      ],
      "id": "Cf9sGilw_7Ub"
    },
    {
      "cell_type": "markdown",
      "metadata": {
        "id": "7VVjya5z_7Ub"
      },
      "source": [
        "#### Завдання для самостійного виконання:\n",
        "Завдання 5. Окупність рекламної кампанії\n",
        "\n",
        "Компанія витратила певну суму на рекламу. Щомісяця реклама приносить прибуток, який може бути різним (заданим у списку).\n",
        "Напишіть функцію, яка визначає, через скільки місяців реклама окупиться, і чи окупилася вона взагалі."
      ],
      "id": "7VVjya5z_7Ub"
    },
    {
      "cell_type": "code",
      "metadata": {
        "id": "8JxZCMgG_7Ub"
      },
      "execution_count": null,
      "outputs": [],
      "source": [
        "# Тут має бути ваше рішення"
      ],
      "id": "8JxZCMgG_7Ub"
    },
    {
      "cell_type": "markdown",
      "metadata": {
        "id": "jRLkJBuw_7Uc"
      },
      "source": [
        "## Варіанти індивідуальних завдань"
      ],
      "id": "jRLkJBuw_7Uc"
    },
    {
      "cell_type": "markdown",
      "source": [
        "1.Створіть функцію для розрахунку рентабельності реклами (ROI) та перевірте, чи реклама була ефективною (ROI > 0).\n",
        "\n",
        "2.Напишіть функцію, яка для кількох товарів обчислює їх прибуток (дохід – витрати) і виводить, які товари є збитковими.\n",
        "\n",
        "3.Реалізуйте функцію, яка моделює щомісячний приріст капіталу під відсотки, доки сума не перевищить подвоєний розмір початкової.\n",
        "\n",
        "4.Напишіть функцію, яка обчислює середню заробітну плату працівників у відділі та знаходить тих, хто отримує менше середнього.\n",
        "\n",
        "5.Створіть функцію, яка перевіряє, чи вистачить бюджету компанії для виплати зарплат усім співробітникам протягом року.\n",
        "\n",
        "6.Напишіть функцію, яка аналізує борги кількох клієнтів банку та виводить найбільшого боржника.\n",
        "\n",
        "7.Реалізуйте функцію, яка обчислює ефективність інвестицій у нерухомість: скільки років потрібно, щоб орендна плата покрила вартість покупки.\n",
        "\n",
        "8.Напишіть функцію, яка симулює роботу магазину: на початку є склад із товарами, клієнти купують випадкову кількість товарів, а програма виводить залишок.\n",
        "\n",
        "9.Створіть функцію, яка моделює накопичення пенсійного фонду: щомісячні внески + відсотки банку. Обчисліть суму після N років.\n",
        "\n",
        "10.Реалізуйте функцію, яка перевіряє план виробництва: чи зможе завод виконати замовлення протягом місяця, якщо відомо щоденне виробництво та кількість днів роботи."
      ],
      "metadata": {
        "id": "RJ-G4arAFGhP"
      },
      "id": "RJ-G4arAFGhP"
    },
    {
      "cell_type": "code",
      "metadata": {
        "id": "WBXIvBXE_7Uc"
      },
      "execution_count": null,
      "outputs": [],
      "source": [
        "# Тут має бути ваше рішення для свого варіанту"
      ],
      "id": "WBXIvBXE_7Uc"
    }
  ],
  "metadata": {
    "kernelspec": {
      "display_name": "Python 3",
      "language": "python",
      "name": "python3"
    },
    "language_info": {
      "name": "python",
      "version": "3.10"
    },
    "colab": {
      "provenance": []
    }
  },
  "nbformat": 4,
  "nbformat_minor": 5
}