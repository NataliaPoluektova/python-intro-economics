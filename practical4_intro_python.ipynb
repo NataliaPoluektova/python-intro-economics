{
 "cells": [
  {
   "cell_type": "markdown",
   "metadata": {},
   "source": [
    "# Практична робота №4\n",
    "## Тема: Циклічні конструкції, списки та рядки у Python\n",
    "**Мета:** навчитися використовувати цикли `while` та `for`, обробляти списки та рядки для розв'язання економічних задач."
   ]
  },
  {
   "cell_type": "markdown",
   "metadata": {},
   "source": [
    "## Інструкція\n",
    "1. Цикл `while` використовується, коли невідомо, скільки разів потрібно виконати блок коду.\n",
    "2. Цикл `for` використовується для перебору списків, рядків або діапазонів чисел.\n",
    "3. Списки (`list`) і рядки (`str`) можна ітерувати та змінювати елементи."
   ]
  },
  {
   "cell_type": "markdown",
   "metadata": {},
   "source": [
    "## Завдання 1. Підрахунок загальної виручки за день (while)\n",
    "Розв'язаний приклад:"
   ]
  },
  {
   "cell_type": "code",
   "metadata": {},
   "execution_count": null,
   "outputs": [],
   "source": [
    "sales = []\n",
    "total = 0\n",
    "n = int(input('Скільки продажів за день? '))\n",
    "i = 0\n",
    "while i < n:\n",
    "    amount = float(input(f'Введіть суму продажу {i+1}: '))\n",
    "    sales.append(amount)\n",
    "    total += amount\n",
    "    i += 1\n",
    "print('Загальна виручка за день:', total)"
   ]
  },
  {
   "cell_type": "markdown",
   "metadata": {},
   "source": [
    "#### Завдання для самостійного виконання:\n",
    "Магазин отримав 7 продажів за день. Порахувати загальну виручку та кількість продажів більше 500 грн."
   ]
  },
  {
   "cell_type": "code",
   "metadata": {},
   "execution_count": null,
   "outputs": [],
   "source": [
    "# Тут має бути ваше рішення"
   ]
  },
  {
   "cell_type": "markdown",
   "metadata": {},
   "source": [
    "## Завдання 2. Обчислення середньої зарплати співробітників (for)\n",
    "Розв'язаний приклад:"
   ]
  },
  {
   "cell_type": "code",
   "metadata": {},
   "execution_count": null,
   "outputs": [],
   "source": [
    "salaries = []\n",
    "total = 0\n",
    "n = int(input('Кількість працівників: '))\n",
    "for i in range(n):\n",
    "    salary = float(input(f'Зарплата працівника {i+1}: '))\n",
    "    salaries.append(salary)\n",
    "    total += salary\n",
    "average = total / n\n",
    "print('Середня зарплата:', average)"
   ]
  },
  {
   "cell_type": "markdown",
   "metadata": {},
   "source": [
    "#### Завдання для самостійного виконання:\n",
    "Компанія має 5 працівників. Введіть зарплати та визначте кількість працівників з зарплатою вище середньої."
   ]
  },
  {
   "cell_type": "code",
   "metadata": {},
   "execution_count": null,
   "outputs": [],
   "source": [
    "# Тут має бути ваше рішення"
   ]
  },
  {
   "cell_type": "markdown",
   "metadata": {},
   "source": [
    "## Завдання 3. Пошук найбільшого продажу\n",
    "Розв'язаний приклад:"
   ]
  },
  {
   "cell_type": "code",
   "metadata": {},
   "execution_count": null,
   "outputs": [],
   "source": [
    "sales = [1000, 1500, 750, 2000, 1200]\n",
    "max_sale = sales[0]\n",
    "for sale in sales:\n",
    "    if sale > max_sale:\n",
    "        max_sale = sale\n",
    "print('Найбільший продаж:', max_sale)"
   ]
  },
  {
   "cell_type": "markdown",
   "metadata": {},
   "source": [
    "#### Завдання для самостійного виконання:\n",
    "Список продажів за тиждень: [500, 1200, 800, 2000, 1500, 700, 900]. Знайдіть найбільший і найменший продаж."
   ]
  },
  {
   "cell_type": "code",
   "metadata": {},
   "execution_count": null,
   "outputs": [],
   "source": [
    "# Тут має бути ваше рішення"
   ]
  },
  {
   "cell_type": "markdown",
   "metadata": {},
   "source": [
    "## Завдання 4. Підрахунок кількості позитивних та негативних балансів\n",
    "Розв'язаний приклад:"
   ]
  },
  {
   "cell_type": "code",
   "metadata": {},
   "execution_count": null,
   "outputs": [],
   "source": [
    "balances = [1000, -500, 200, -100, 300]\n",
    "positive = 0\n",
    "negative = 0\n",
    "for b in balances:\n",
    "    if b > 0:\n",
    "        positive += 1\n",
    "    else:\n",
    "        negative += 1\n",
    "print('Позитивних балансів:', positive)\n",
    "print('Негативних балансів:', negative)"
   ]
  },
  {
   "cell_type": "markdown",
   "metadata": {},
   "source": [
    "#### Завдання для самостійного виконання:\n",
    "Список щоденних змін балансу: [200, -100, -50, 400, 0, -300, 150]. Порахувати кількість днів із прибутком та збитком."
   ]
  },
  {
   "cell_type": "code",
   "metadata": {},
   "execution_count": null,
   "outputs": [],
   "source": [
    "# Тут має бути ваше рішення"
   ]
  },
  {
   "cell_type": "markdown",
   "metadata": {},
   "source": [
    "## Завдання 5. Перевірка продажів більше певної суми\n",
    "Розв'язаний приклад:"
   ]
  },
  {
   "cell_type": "code",
   "metadata": {},
   "execution_count": null,
   "outputs": [],
   "source": [
    "sales = [1200, 500, 800, 1500, 900]\n",
    "threshold = 1000\n",
    "count = 0\n",
    "for s in sales:\n",
    "    if s > threshold:\n",
    "        count += 1\n",
    "print('Кількість продажів більше 1000 грн:', count)"
   ]
  },
  {
   "cell_type": "markdown",
   "metadata": {},
   "source": [
    "#### Завдання для самостійного виконання:\n",
    "Перелік продажів: [300, 600, 1500, 2000, 800]. Порахувати кількість продажів від 500 до 1500 грн."
   ]
  },
  {
   "cell_type": "code",
   "metadata": {},
   "execution_count": null,
   "outputs": [],
   "source": [
    "# Тут має бути ваше рішення"
   ]
  },
  {
   "cell_type": "markdown",
   "metadata": {},
   "source": [
    "## Завдання 6. Розрахунок накопиченої виручки (while)\n",
    "Розв'язаний приклад:"
   ]
  },
  {
   "cell_type": "code",
   "metadata": {},
   "execution_count": null,
   "outputs": [],
   "source": [
    "daily_sales = [200, 500, 300, 400]\n",
    "total = 0\n",
    "i = 0\n",
    "while i < len(daily_sales):\n",
    "    total += daily_sales[i]\n",
    "    i += 1\n",
    "print('Накопичена виручка:', total)"
   ]
  },
  {
   "cell_type": "markdown",
   "metadata": {},
   "source": [
    "#### Завдання для самостійного виконання:\n",
    "Список продажів за 6 днів: [150, 250, 300, 200, 400, 350]. Знайти суму продажів за перші 4 дні та останні 2 дні окремо."
   ]
  },
  {
   "cell_type": "code",
   "metadata": {},
   "execution_count": null,
   "outputs": [],
   "source": [
    "# Тут має бути ваше рішення"
   ]
  },
  {
   "cell_type": "markdown",
   "metadata": {},
   "source": [
    "## Варіанти індивідуальних завдань (10 варіантів ІДЗ)\n",
    "Складніші економічні задачі з циклами та списками."
   ]
  },
  {
   "cell_type": "code",
   "metadata": {},
   "execution_count": null,
   "outputs": [],
   "source": [
    "# Варіант 1: Підрахувати загальний прибуток за місяць із списку щоденних виручок, визначити дні, коли виручка була нижче 1000 грн.\n",
    "# Варіант 2: Знайти середній баланс клієнтів із списку балансів, визначити кількість клієнтів з балансом більше середнього.\n",
    "# Варіант 3: Обчислити суму всіх продажів товарів, де ціна >500 грн.\n",
    "# Варіант 4: Визначити, скільки днів компанія працювала з прибутком і збитком, використовуючи список змін балансу.\n",
    "# Варіант 5: Вивести всі товари, які коштують більше середньої ціни в списку цін.\n",
    "# Варіант 6: Порахувати кількість продажів у певному діапазоні сум (наприклад, 500–1500 грн).\n",
    "# Варіант 7: Підрахувати загальну зарплату всіх співробітників та знайти працівників із зарплатою вище середньої.\n",
    "# Варіант 8: Обчислити накопичену виручку за певний період та порівняти її з попереднім періодом.\n",
    "# Варіант 9: Визначити максимальний та мінімальний продаж у списку і дні, коли вони відбулися.\n",
    "# Варіант 10: Підрахувати кількість продажів понад 1000 грн та суму цих продажів."
   ]
  },
  {
   "cell_type": "code",
   "metadata": {},
   "execution_count": null,
   "outputs": [],
   "source": [
    "# Тут має бути ваше рішення для свого варіанту"
   ]
  }
 ],
 "metadata": {
  "kernelspec": {
   "display_name": "Python 3",
   "language": "python",
   "name": "python3"
  },
  "language_info": {
   "name": "python",
   "version": "3.10"
  }
 },
 "nbformat": 4,
 "nbformat_minor": 5
}
