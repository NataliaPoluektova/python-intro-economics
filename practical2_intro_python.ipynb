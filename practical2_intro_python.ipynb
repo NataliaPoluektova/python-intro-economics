{
 "cells": [
  {
   "cell_type": "markdown",
   "metadata": {},
   "source": [
    "# Практична робота №2\n",
    "## Тема: Основи введення, виведення та перетворення даних у Python\n",
    "**Мета:** навчитися використовувати типи даних, змінні, вводити дані від користувача, виконувати обчислення та виводити результати."
   ]
  },
  {
   "cell_type": "markdown",
   "metadata": {},
   "source": [
    "## Інструкція\n",
    "1. Для **введення даних від користувача** використовується функція `input()`.\n",
    "2. Для **виведення даних** використовується функція `print()`.\n",
    "3. **Перетворення типів**: `int()`, `float()`, `str()` для роботи з різними типами."
   ]
  },
  {
   "cell_type": "markdown",
   "metadata": {},
   "source": [
    "## Завдання 1. Обчислення прибутку від депозиту\n",
    "Розв'язаний приклад:"
   ]
  },
  {
   "cell_type": "code",
   "metadata": {},
   "execution_count": null,
   "outputs": [],
   "source": [
    "deposit = float(input('Введіть суму депозиту: '))\n",
    "rate = float(input('Введіть річну ставку (наприклад, 0.05 для 5%): '))\n",
    "profit = deposit * rate\n",
    "print('Прибуток за рік:', profit)"
   ]
  },
  {
   "cell_type": "markdown",
   "metadata": {},
   "source": [
    "#### Завдання для самостійного виконання:\n",
    "Клієнт поклав 20000 грн на депозит під річну ставку 6%. Порахувати прибуток за рік."
   ]
  },
  {
   "cell_type": "code",
   "metadata": {},
   "execution_count": null,
   "outputs": [],
   "source": [
    "# Тут має бути ваше рішення"
   ]
  },
  {
   "cell_type": "markdown",
   "metadata": {},
   "source": [
    "## Завдання 2. Зарплата після податків\n",
    "Розв'язаний приклад:"
   ]
  },
  {
   "cell_type": "code",
   "metadata": {},
   "execution_count": null,
   "outputs": [],
   "source": [
    "salary = float(input('Введіть зарплату: '))\n",
    "tax_rate = float(input('Введіть податкову ставку (0.18 для 18%): '))\n",
    "net_salary = salary * (1 - tax_rate)\n",
    "print('Зарплата після податків:', net_salary)"
   ]
  },
  {
   "cell_type": "markdown",
   "metadata": {},
   "source": [
    "#### Завдання для самостійного виконання:\n",
    "Працівник отримує 30000 грн. Податкова ставка 22%. Обчисліть зарплату після податків."
   ]
  },
  {
   "cell_type": "code",
   "metadata": {},
   "execution_count": null,
   "outputs": [],
   "source": [
    "# Тут має бути ваше рішення"
   ]
  },
  {
   "cell_type": "markdown",
   "metadata": {},
   "source": [
    "## Завдання 3. Вартість товару\n",
    "Розв'язаний приклад:"
   ]
  },
  {
   "cell_type": "code",
   "metadata": {},
   "execution_count": null,
   "outputs": [],
   "source": [
    "price = float(input('Ціна товару: '))\n",
    "quantity = int(input('Кількість товарів: '))\n",
    "total = price * quantity\n",
    "print('Загальна вартість:', total)"
   ]
  },
  {
   "cell_type": "markdown",
   "metadata": {},
   "source": [
    "#### Завдання для самостійного виконання:\n",
    "Ціна одного планшета 15000 грн. Клієнт купує 4 планшети. Обчисліть загальну вартість покупки."
   ]
  },
  {
   "cell_type": "code",
   "metadata": {},
   "execution_count": null,
   "outputs": [],
   "source": [
    "# Тут має бути ваше рішення"
   ]
  },
  {
   "cell_type": "markdown",
   "metadata": {},
   "source": [
    "## Завдання 4. Розрахунок кредиту з відсотками\n",
    "Розв'язаний приклад:"
   ]
  },
  {
   "cell_type": "code",
   "metadata": {},
   "execution_count": null,
   "outputs": [],
   "source": [
    "loan = float(input('Сума кредиту: '))\n",
    "interest = float(input('Річна ставка (0.12 для 12%): '))\n",
    "total = loan * (1 + interest)\n",
    "print('Сума до повернення:', total)"
   ]
  },
  {
   "cell_type": "markdown",
   "metadata": {},
   "source": [
    "#### Завдання для самостійного виконання:\n",
    "Позичальник взяв кредит 120000 грн під 10% річних. Обчисліть суму до повернення."
   ]
  },
  {
   "cell_type": "code",
   "metadata": {},
   "execution_count": null,
   "outputs": [],
   "source": [
    "# Тут має бути ваше рішення"
   ]
  },
  {
   "cell_type": "markdown",
   "metadata": {},
   "source": [
    "## Завдання 5. Прибуток компанії\n",
    "Розв'язаний приклад:"
   ]
  },
  {
   "cell_type": "code",
   "metadata": {},
   "execution_count": null,
   "outputs": [],
   "source": [
    "revenue = float(input('Виручка компанії: '))\n",
    "costs = float(input('Витрати компанії: '))\n",
    "profit = revenue - costs\n",
    "print('Прибуток компанії:', profit)"
   ]
  },
  {
   "cell_type": "markdown",
   "metadata": {},
   "source": [
    "#### Завдання для самостійного виконання:\n",
    "Компанія отримала виручку 250000 грн, витрати склали 170000 грн. Обчисліть прибуток компанії."
   ]
  },
  {
   "cell_type": "code",
   "metadata": {},
   "execution_count": null,
   "outputs": [],
   "source": [
    "# Тут має бути ваше рішення"
   ]
  },
  {
   "cell_type": "markdown",
   "metadata": {},
   "source": [
    "## 10 варіантів індивідуальних завдань (без розв'язку)"
   ]
  },
  {
   "cell_type": "code",
   "metadata": {},
   "execution_count": null,
   "outputs": [],
   "source": [
    "# Варіант 1: Розрахувати новий капітал після річного приросту\n",
    "# Варіант 2: Обчислити прибуток від продажу товарів\n",
    "# Варіант 3: Розрахувати місячну зарплату за ставкою і годинами\n",
    "# Варіант 4: Розрахувати рентабельність виробництва\n",
    "# Варіант 5: Розрахувати суму відсотків за кредитом\n",
    "# Варіант 6: Обчислити щомісячний прибуток компанії\n",
    "# Варіант 7: Розрахувати прибуток та відсоток зростання інвестицій\n",
    "# Варіант 8: Обчислити загальний прибуток від продажу декількох товарів\n",
    "# Варіант 9: Розрахувати рентабельність рекламної кампанії\n",
    "# Варіант 10: Обчислити нову зарплату після підвищення на певний відсоток"
   ]
  },
  {
   "cell_type": "code",
   "metadata": {},
   "execution_count": null,
   "outputs": [],
   "source": [
    "# Тут має бути ваше рішення для свого варіанту"
   ]
  }
 ],
 "metadata": {
  "kernelspec": {
   "display_name": "Python 3",
   "language": "python",
   "name": "python3"
  },
  "language_info": {
   "name": "python",
   "version": "3.10"
  }
 },
 "nbformat": 4,
 "nbformat_minor": 5
}
