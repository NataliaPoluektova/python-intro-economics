{
 "cells": [
  {
   "cell_type": "markdown",
   "id": "67fbaec4",
   "metadata": {},
   "source": [
    "# Практична робота №2\n",
    "## Основи створення програм на мові програмування Python\n",
    "**Мета:** навчитися використовувати типи даних, змінні, введення та виведення даних, виконувати математичні обчислення при розв’язанні економічних задач."
   ]
  },
  {
   "cell_type": "markdown",
   "id": "ca80563e",
   "metadata": {},
   "source": [
    "### Приклад 1. Обчислення відсотків за вкладом\n",
    "Клієнт поклав на депозит 10 000 грн під річну ставку 5%. Порахувати прибуток."
   ]
  },
  {
   "cell_type": "code",
   "execution_count": null,
   "id": "2434e2df",
   "metadata": {},
   "outputs": [],
   "source": [
    "deposit = 10000\n",
    "rate = 0.05\n",
    "profit = deposit * rate\n",
    "print(\"Прибуток за рік:\", profit)"
   ]
  },
  {
   "cell_type": "markdown",
   "id": "df592ae8",
   "metadata": {},
   "source": [
    "#### Завдання для вас:\n",
    "Клієнт поклав на депозит 15 000 грн під річну ставку 7%. Порахувати прибуток за рік."
   ]
  },
  {
   "cell_type": "code",
   "execution_count": null,
   "id": "a66b06cf",
   "metadata": {},
   "outputs": [],
   "source": [
    "# Ваш код тут"
   ]
  },
  {
   "cell_type": "markdown",
   "id": "76242cb9",
   "metadata": {},
   "source": [
    "### Приклад 2. Розрахунок заробітної плати після податків\n",
    "Зарплата працівника 20 000 грн, податок 18%."
   ]
  },
  {
   "cell_type": "code",
   "execution_count": null,
   "id": "83ab77ac",
   "metadata": {},
   "outputs": [],
   "source": [
    "salary = 20000\n",
    "tax_rate = 0.18\n",
    "net_salary = salary * (1 - tax_rate)\n",
    "print(\"Зарплата після податків:\", net_salary)"
   ]
  },
  {
   "cell_type": "markdown",
   "id": "0d6846e1",
   "metadata": {},
   "source": [
    "#### Завдання для вас:\n",
    "Робітник отримує зарплату 25 000 грн. Податкова ставка 20%. Обчисліть зарплату після податків."
   ]
  },
  {
   "cell_type": "code",
   "execution_count": null,
   "id": "56e4a13b",
   "metadata": {},
   "outputs": [],
   "source": [
    "# Ваш код тут"
   ]
  },
  {
   "cell_type": "markdown",
   "id": "4d3637f1",
   "metadata": {},
   "source": [
    "### Приклад 3. Розрахунок вартості товарів\n",
    "Ціна товару 120 грн, кількість 15."
   ]
  },
  {
   "cell_type": "code",
   "execution_count": null,
   "id": "11234bed",
   "metadata": {},
   "outputs": [],
   "source": [
    "price = 120\n",
    "quantity = 15\n",
    "total = price * quantity\n",
    "print(\"Загальна вартість:\", total)"
   ]
  },
  {
   "cell_type": "markdown",
   "id": "d0ae0b97",
   "metadata": {},
   "source": [
    "#### Завдання для вас:\n",
    "Ціна одного ноутбука 22 000 грн. Клієнт купує 3 ноутбуки. Обчисліть загальну вартість покупки."
   ]
  },
  {
   "cell_type": "code",
   "execution_count": null,
   "id": "c54e2c9a",
   "metadata": {},
   "outputs": [],
   "source": [
    "# Ваш код тут"
   ]
  },
  {
   "cell_type": "markdown",
   "id": "a6bca795",
   "metadata": {},
   "source": [
    "### Приклад 4. Розрахунок кредиту з відсотками\n",
    "Сума кредиту 50 000 грн, річна ставка 12%."
   ]
  },
  {
   "cell_type": "code",
   "execution_count": null,
   "id": "5905e7c6",
   "metadata": {},
   "outputs": [],
   "source": [
    "loan = 50000\n",
    "interest = 0.12\n",
    "final_amount = loan * (1 + interest)\n",
    "print(\"Сума до повернення:\", final_amount)"
   ]
  },
  {
   "cell_type": "markdown",
   "id": "fcaffeb0",
   "metadata": {},
   "source": [
    "#### Завдання для вас:\n",
    "Позичальник взяв кредит 80 000 грн під 15% річних. Обчисліть суму до повернення."
   ]
  },
  {
   "cell_type": "code",
   "execution_count": null,
   "id": "4ca656ec",
   "metadata": {},
   "outputs": [],
   "source": [
    "# Ваш код тут"
   ]
  },
  {
   "cell_type": "markdown",
   "id": "d4f0b11c",
   "metadata": {},
   "source": [
    "### Приклад 5. Обчислення прибутку компанії\n",
    "Виручка 150 000 грн, витрати 90 000 грн."
   ]
  },
  {
   "cell_type": "code",
   "execution_count": null,
   "id": "7f5a3d9d",
   "metadata": {},
   "outputs": [],
   "source": [
    "revenue = 150000\n",
    "costs = 90000\n",
    "profit = revenue - costs\n",
    "print(\"Прибуток компанії:\", profit)"
   ]
  },
  {
   "cell_type": "markdown",
   "id": "de15155f",
   "metadata": {},
   "source": [
    "#### Завдання для вас:\n",
    "Компанія отримала виручку 200 000 грн, витрати склали 135 000 грн. Обчисліть прибуток компанії."
   ]
  },
  {
   "cell_type": "code",
   "execution_count": null,
   "id": "672f8299",
   "metadata": {},
   "outputs": [],
   "source": [
    "# Ваш код тут"
   ]
  },
  {
   "cell_type": "markdown",
   "id": "40b02710",
   "metadata": {},
   "source": [
    "## Індивідуальні завдання\n",
    "\n",
    "Оберіть свій варіант за списком групи. Напишіть рішення у наступній комірці коду.\n",
    "\n",
    "1. Підприємець інвестував 100 000 грн у бізнес. Через рік його капітал збільшився на 12%. Обчисліть новий капітал.\n",
    "2. Магазин закупив 50 смартфонів по 7 500 грн і продав їх по 9 200 грн. Обчисліть загальний прибуток.\n",
    "3. Працівник працює за ставкою 180 грн/год і відпрацював 160 годин за місяць. Обчисліть його місячну зарплату.\n",
    "4. Компанія випустила продукцію на 300 000 грн. Собівартість склала 240 000 грн. Обчисліть рентабельність виробництва (прибуток/собівартість × 100%).\n",
    "5. Клієнт взяв кредит 150 000 грн під 18% річних. Обчисліть суму відсотків за рік.\n",
    "6. Фірма орендує офіс за 12 000 грн/міс і має щомісячні витрати на зарплату 80 000 грн. Якщо щомісячна виручка складає 120 000 грн, обчисліть прибуток за місяць.\n",
    "7. Інвестор купив акції за 50 000 грн, а через рік продав їх за 65 000 грн. Обчисліть прибуток та відсоток зростання.\n",
    "8. Магазин продав 120 товарів по ціні 350 грн за одиницю. Собівартість одного товару — 270 грн. Обчисліть загальний прибуток.\n",
    "9. Підприємець заплатив за рекламу 25 000 грн, що принесла додатковий прибуток у 40 000 грн. Обчисліть рентабельність реклами (прибуток/витрати × 100%).\n",
    "10. Працівник отримує 28 000 грн/міс. Після підвищення зарплата зросла на 12%. Обчисліть нову зарплату."
   ]
  },
  {
   "cell_type": "code",
   "execution_count": null,
   "id": "1d0b5f70",
   "metadata": {},
   "outputs": [],
   "source": [
    "# Варіант 1 - Ваш код тут"
   ]
  },
  {
   "cell_type": "code",
   "execution_count": null,
   "id": "750d54f2",
   "metadata": {},
   "outputs": [],
   "source": [
    "# Варіант 2 - Ваш код тут"
   ]
  },
  {
   "cell_type": "code",
   "execution_count": null,
   "id": "91a5d6d1",
   "metadata": {},
   "outputs": [],
   "source": [
    "# Варіант 3 - Ваш код тут"
   ]
  },
  {
   "cell_type": "code",
   "execution_count": null,
   "id": "e44514a4",
   "metadata": {},
   "outputs": [],
   "source": [
    "# Варіант 4 - Ваш код тут"
   ]
  },
  {
   "cell_type": "code",
   "execution_count": null,
   "id": "6a0286d7",
   "metadata": {},
   "outputs": [],
   "source": [
    "# Варіант 5 - Ваш код тут"
   ]
  },
  {
   "cell_type": "code",
   "execution_count": null,
   "id": "35c41484",
   "metadata": {},
   "outputs": [],
   "source": [
    "# Варіант 6 - Ваш код тут"
   ]
  },
  {
   "cell_type": "code",
   "execution_count": null,
   "id": "9ed2c9d5",
   "metadata": {},
   "outputs": [],
   "source": [
    "# Варіант 7 - Ваш код тут"
   ]
  },
  {
   "cell_type": "code",
   "execution_count": null,
   "id": "12701a25",
   "metadata": {},
   "outputs": [],
   "source": [
    "# Варіант 8 - Ваш код тут"
   ]
  },
  {
   "cell_type": "code",
   "execution_count": null,
   "id": "948da71a",
   "metadata": {},
   "outputs": [],
   "source": [
    "# Варіант 9 - Ваш код тут"
   ]
  },
  {
   "cell_type": "code",
   "execution_count": null,
   "id": "53a35982",
   "metadata": {},
   "outputs": [],
   "source": [
    "# Варіант 10 - Ваш код тут"
   ]
  }
 ],
 "metadata": {},
 "nbformat": 4,
 "nbformat_minor": 5
}
