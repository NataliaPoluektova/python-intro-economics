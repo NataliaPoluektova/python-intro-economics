{
  "cells": [
    {
      "cell_type": "markdown",
      "metadata": {
        "id": "JNb8CEYjpGF9"
      },
      "source": [
        "# Практична робота №2\n",
        "## Тема: Основи введення, виведення та перетворення даних у Python\n",
        "**Мета:** навчитися використовувати типи даних, змінні, вводити дані від користувача, виконувати обчислення та виводити результати."
      ],
      "id": "JNb8CEYjpGF9"
    },
    {
      "cell_type": "markdown",
      "metadata": {
        "id": "RifH3WnTpGF_"
      },
      "source": [
        "## Інструкція\n",
        "1. Для **введення даних від користувача** використовується функція `input()`.\n",
        "2. Для **виведення даних** використовується функція `print()`.\n",
        "3. **Перетворення типів**: `int()`, `float()`, `str()` для роботи з різними типами.\n",
        "4. Для виведення результату до певної кількості знаків після точки використовувати f-рядок:\n",
        "print(f'результат:{r:.2f}')"
      ],
      "id": "RifH3WnTpGF_"
    },
    {
      "cell_type": "markdown",
      "metadata": {
        "id": "0sCGZMY9pGGA"
      },
      "source": [
        "## Завдання 1. Обчислення прибутку від депозиту\n",
        "Розв'язаний приклад:"
      ],
      "id": "0sCGZMY9pGGA"
    },
    {
      "cell_type": "code",
      "metadata": {
        "id": "M1pqJZmIpGGA"
      },
      "execution_count": null,
      "outputs": [],
      "source": [
        "deposit = float(input('Введіть суму депозиту: '))\n",
        "rate = float(input('Введіть річну ставку (наприклад, 0.05 для 5%): '))\n",
        "profit = deposit * rate\n",
        "print('Прибуток за рік:', profit)"
      ],
      "id": "M1pqJZmIpGGA"
    },
    {
      "cell_type": "markdown",
      "metadata": {
        "id": "NCxL3iDQpGGB"
      },
      "source": [
        "#### Завдання для самостійного виконання:\n",
        "Клієнт поклав 20000 грн на депозит під річну ставку 6%. Порахувати прибуток за 2 роки.\n"
      ],
      "id": "NCxL3iDQpGGB"
    },
    {
      "cell_type": "code",
      "metadata": {
        "id": "mC3HVPYlpGGC"
      },
      "execution_count": null,
      "outputs": [],
      "source": [
        "# Тут має бути ваше рішення"
      ],
      "id": "mC3HVPYlpGGC"
    },
    {
      "cell_type": "markdown",
      "metadata": {
        "id": "sRTha2zRpGGC"
      },
      "source": [
        "## Завдання 2. Зарплата після податків\n",
        "Розв'язаний приклад:"
      ],
      "id": "sRTha2zRpGGC"
    },
    {
      "cell_type": "code",
      "metadata": {
        "id": "j2Cj-XKKpGGC"
      },
      "execution_count": null,
      "outputs": [],
      "source": [
        "salary = float(input('Введіть зарплату: '))\n",
        "tax_rate = float(input('Введіть податкову ставку (0.18 для 18%): '))\n",
        "net_salary = salary * (1 - tax_rate)\n",
        "print('Зарплата після податків:', net_salary)"
      ],
      "id": "j2Cj-XKKpGGC"
    },
    {
      "cell_type": "markdown",
      "metadata": {
        "id": "GpiijHUBpGGD"
      },
      "source": [
        "#### Завдання для самостійного виконання:\n",
        "Працівник отримує 30000 грн. Податкова ставка 22%. Ставка єдиного соціального податку 10%. Обчисліть зарплату після податків."
      ],
      "id": "GpiijHUBpGGD"
    },
    {
      "cell_type": "code",
      "metadata": {
        "id": "PaYpOH9zpGGD"
      },
      "execution_count": null,
      "outputs": [],
      "source": [
        "# Тут має бути ваше рішення"
      ],
      "id": "PaYpOH9zpGGD"
    },
    {
      "cell_type": "markdown",
      "metadata": {
        "id": "bW1S9XmTpGGD"
      },
      "source": [
        "## Завдання 3. Вартість товару\n",
        "Розв'язаний приклад:"
      ],
      "id": "bW1S9XmTpGGD"
    },
    {
      "cell_type": "code",
      "metadata": {
        "id": "bBP55KY4pGGD"
      },
      "execution_count": null,
      "outputs": [],
      "source": [
        "price = float(input('Ціна товару: '))\n",
        "quantity = int(input('Кількість товарів: '))\n",
        "total = price * quantity\n",
        "print('Загальна вартість:', total)"
      ],
      "id": "bBP55KY4pGGD"
    },
    {
      "cell_type": "markdown",
      "metadata": {
        "id": "_pn1in1VpGGD"
      },
      "source": [
        "#### Завдання для самостійного виконання:\n",
        "Ціна одного планшета 15000 грн, одного ноутбуку - 35000 грн. Клієнт купує 4 планшети та 2 ноутбука. Обчисліть загальну вартість покупки."
      ],
      "id": "_pn1in1VpGGD"
    },
    {
      "cell_type": "code",
      "metadata": {
        "id": "E1Iw0UYEpGGD"
      },
      "execution_count": null,
      "outputs": [],
      "source": [
        "# Тут має бути ваше рішення"
      ],
      "id": "E1Iw0UYEpGGD"
    },
    {
      "cell_type": "markdown",
      "metadata": {
        "id": "FO5cXPB0pGGE"
      },
      "source": [
        "## Завдання 4. Розрахунок кредиту з відсотками\n",
        "Розв'язаний приклад:"
      ],
      "id": "FO5cXPB0pGGE"
    },
    {
      "cell_type": "code",
      "metadata": {
        "id": "Kx2Q8OA7pGGE"
      },
      "execution_count": null,
      "outputs": [],
      "source": [
        "loan = float(input('Сума кредиту: '))\n",
        "interest = float(input('Річна ставка (0.12 для 12%): '))\n",
        "total = loan * (1 + interest)\n",
        "print('Сума до сплати:', total)"
      ],
      "id": "Kx2Q8OA7pGGE"
    },
    {
      "cell_type": "markdown",
      "metadata": {
        "id": "IRK4cuNUpGGE"
      },
      "source": [
        "#### Завдання для самостійного виконання:\n",
        "Позичальник взяв кредит 120000 грн під 10% річних. Обчисліть суму до повернення."
      ],
      "id": "IRK4cuNUpGGE"
    },
    {
      "cell_type": "code",
      "metadata": {
        "id": "1xBzcZkIpGGE"
      },
      "execution_count": 4,
      "outputs": [],
      "source": [
        "# Тут має бути ваше рішення"
      ],
      "id": "1xBzcZkIpGGE"
    },
    {
      "cell_type": "markdown",
      "metadata": {
        "id": "JbR2w_dypGGE"
      },
      "source": [
        "## Завдання 5. Прибуток компанії\n",
        "Розв'язаний приклад:"
      ],
      "id": "JbR2w_dypGGE"
    },
    {
      "cell_type": "code",
      "metadata": {
        "id": "VLIXbcT-pGGE"
      },
      "execution_count": null,
      "outputs": [],
      "source": [
        "revenue = float(input('Виручка компанії: '))\n",
        "costs = float(input('Витрати компанії: '))\n",
        "profit = revenue - costs\n",
        "print('Прибуток компанії:', profit)"
      ],
      "id": "VLIXbcT-pGGE"
    },
    {
      "cell_type": "markdown",
      "metadata": {
        "id": "-OftvDCapGGE"
      },
      "source": [
        "#### Завдання для самостійного виконання:\n",
        "Компанія отримала виручку 250000 грн, витрати склали 170000 грн. Обчисліть прибуток компанії."
      ],
      "id": "-OftvDCapGGE"
    },
    {
      "cell_type": "code",
      "metadata": {
        "id": "L9UmguZWpGGE"
      },
      "execution_count": null,
      "outputs": [],
      "source": [
        "# Тут має бути ваше рішення"
      ],
      "id": "L9UmguZWpGGE"
    },
    {
      "cell_type": "markdown",
      "metadata": {
        "id": "Y7AM5UympGGE"
      },
      "source": [
        "## Варіанти індивідуальних завдань"
      ],
      "id": "Y7AM5UympGGE"
    },
    {
      "cell_type": "code",
      "metadata": {
        "id": "zxIYpJVipGGE"
      },
      "execution_count": null,
      "outputs": [],
      "source": [
        "# Варіант 1: Підприємець інвестував 120 000 грн у бізнес. Через рік його капітал зріс на 12%.Розрахувати новий капітал. Формула:new_capital = initial_capital * (1 + rate)\n",
        "# Варіант 2: Магазин закупив 50 смартфонів по 7 500 грн та продав їх по 9 200 грн.Розрахувати загальний прибуток. Формула: profit = (selling_price - cost_price) * quantity\n",
        "# Варіант 3: Працівник працює за ставкою 180 грн/год і відпрацював 160 годин за місяць. Розрахувати місячну зарплату. Формула: salary = rate_per_hour * hours_worked\n",
        "# Варіант 4: Компанія випустила продукцію на 300 000 грн. Собівартість склала 240 000 грн. Розрахувати:Рентабельність виробництва (%).Формула: profitability = (revenue - costs) / costs * 100\n",
        "# Варіант 5: Клієнт взяв кредит 150 000 грн під 18% річних. Розрахувати:Суму відсотків за рік. Формула: interest = loan_amount * interest_rate\n",
        "# Варіант 6: Фірма орендує офіс за 12 000 грн/міс і має щомісячні витрати на зарплату 80 000 грн. Щомісячна виручка – 120 000 грн. Розрахувати прибуток за місяць. Формула: profit = revenue - (rent + salaries)\n",
        "# Варіант 7: Інвестор купив акції за 50 000 грн і продав їх через рік за 65 000 грн.Розрахувати: Прибуток та відсоток зростання.Формули:profit = selling_price - purchase_price, growth_percent = profit / purchase_price * 100\n",
        "# Варіант 8: Магазин продав 120 товарів по 350 грн. Собівартість одного товару – 270 грн. Розрахувати загальний прибуток. Формула:profit = (selling_price - cost_price) * quantity\n",
        "# Варіант 9: Підприємець витратив 25 000 грн на рекламу, що принесла додатковий прибуток 40 000 грн. Розрахувати рентабельність реклами (%). Формула: profitability = profit / expenses * 100\n",
        "# Варіант 10: Працівник отримує 28 000 грн/міс. Після підвищення зарплата зросла на 12%. Розрахувати: нову зарплату. Формула:new_salary = current_salary * (1 + increase_percent)\n"
      ],
      "id": "zxIYpJVipGGE"
    },
    {
      "cell_type": "code",
      "metadata": {
        "id": "vKk9tjlEpGGF"
      },
      "execution_count": null,
      "outputs": [],
      "source": [
        "# Тут має бути ваше рішення для свого варіанту"
      ],
      "id": "vKk9tjlEpGGF"
    }
  ],
  "metadata": {
    "kernelspec": {
      "display_name": "Python 3",
      "language": "python",
      "name": "python3"
    },
    "language_info": {
      "name": "python",
      "version": "3.10"
    },
    "colab": {
      "provenance": []
    }
  },
  "nbformat": 4,
  "nbformat_minor": 5
}