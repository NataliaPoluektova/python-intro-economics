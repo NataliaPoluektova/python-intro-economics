{
 "cells": [
  {
   "cell_type": "markdown",
   "metadata": {},
   "source": [
    "# Практична робота №2\n",
    "## Основи створення програм на мові програмування Python\n",
    "**Мета:** навчитися використовувати типи даних, змінні, введення та виведення даних, виконувати математичні обчислення при розв’язанні економічних задач."
   ]
  },
  
  {
   "cell_type": "markdown",
   "metadata": {},
   "source": [
    "### Приклад 1. Обчислення відсотків за вкладом\n",
    "Клієнт поклав на депозит суму і відсоткову ставку, яку вводить користувач. Порахувати прибуток."
   ]
  },
  {
   "cell_type": "code",
   "metadata": {},
   "execution_count": null,
   "outputs": [],
   "source": [
    "deposit = float(input('Введіть суму депозиту: '))\n",
    "rate = float(input('Введіть річну процентну ставку (у форматі 0.05 для 5%): '))\n",
    "profit = deposit * rate\n",
    "print(\"Прибуток за рік:\", profit)"
   ]
  },
  {
   "cell_type": "markdown",
   "metadata": {},
   "source": [
    "#### Завдання для вас:\n",
    "Клієнт поклав на депозит суму і ставку за вашим вибором. Порахувати прибуток за рік."
   ]
  },
  {
   "cell_type": "code",
   "metadata": {},
   "execution_count": null,
   "outputs": [],
   "source": [
    "# Ваш код тут\n",
    "deposit = float(input('Введіть суму депозиту: '))\n",
    "rate = float(input('Введіть річну ставку у форматі 0.07 для 7%: '))\n",
    "profit = deposit * rate\n",
    "print('Прибуток за рік:', profit)"
   ]
  },
  {
   "cell_type": "markdown",
   "metadata": {},
   "source": [
    "### Приклад 2. Розрахунок зарплати після податків\n",
    "Введення користувачем зарплати та податкової ставки."
   ]
  },
  {
   "cell_type": "code",
   "metadata": {},
   "execution_count": null,
   "outputs": [],
   "source": [
    "salary = float(input('Введіть зарплату: '))\n",
    "tax_rate = float(input('Введіть податкову ставку (наприклад 0.18 для 18%): '))\n",
    "net_salary = salary * (1 - tax_rate)\n",
    "print('Зарплата після податків:', net_salary)"
   ]
  },
  {
   "cell_type": "markdown",
   "metadata": {},
   "source": [
    "#### Завдання для вас:\n",
    "Введіть зарплату та податкову ставку на ваш вибір і розрахуйте зарплату після податків."
   ]
  },
  {
   "cell_type": "code",
   "metadata": {},
   "execution_count": null,
   "outputs": [],
   "source": [
    "# Ваш код тут\n",
    "salary = float(input('Введіть зарплату: '))\n",
    "tax_rate = float(input('Введіть податкову ставку: '))\n",
    "net_salary = salary * (1 - tax_rate)\n",
    "print('Зарплата після податків:', net_salary)"
   ]
  },
  {
   "cell_type": "markdown",
   "metadata": {},
   "source": [
    "### Приклад 3. Вартість товару\n",
    "Введення ціни та кількості користувачем."
   ]
  },
  {
   "cell_type": "code",
   "metadata": {},
   "execution_count": null,
   "outputs": [],
   "source": [
    "price = float(input('Введіть ціну товару: '))\n",
    "quantity = int(input('Введіть кількість товарів: '))\n",
    "total = price * quantity\n",
    "print('Загальна вартість:', total)"
   ]
  },
  {
   "cell_type": "markdown",
   "metadata": {},
   "source": [
    "#### Завдання для вас:\n",
    "Введіть ціну та кількість товарів і обчисліть загальну вартість покупки."
   ]
  },
  {
   "cell_type": "code",
   "metadata": {},
   "execution_count": null,
   "outputs": [],
   "source": [
    "# Ваш код тут\n",
    "price = float(input('Ціна товару: '))\n",
    "quantity = int(input('Кількість товарів: '))\n",
    "total = price * quantity\n",
    "print('Загальна вартість покупки:', total)"
   ]
  },
  {
   "cell_type": "markdown",
   "metadata": {},
   "source": [
    "## Індивідуальні завдання (10 варіантів)\n",
    "Кожен студент обирає свій варіант та вводить дані через input."
   ]
  },
  {
   "cell_type": "code",
   "metadata": {},
   "execution_count": null,
   "outputs": [],
   "source": [
    "# Варіант 1\n",
    "capital = float(input('Введіть початковий капітал: '))\n",
    "growth = float(input('Введіть річний відсоток зростання у форматі 0.12: '))\n",
    "capital_new = capital * (1 + growth)\n",
    "print('Новий капітал:', capital_new)"
   ]
  },
  {
   "cell_type": "code",
   "metadata": {},
   "execution_count": null,
   "outputs": [],
   "source": [
    "# Варіант 2\n",
    "smartphones = int(input('Введіть кількість смартфонів: '))\n",
    "cost_price = float(input('Собівартість одного смартфона: '))\n",
    "selling_price = float(input('Ціна продажу одного смартфона: '))\n",
    "profit = (selling_price - cost_price) * smartphones\n",
    "print('Загальний прибуток:', profit)"
   ]
  },
  {
   "cell_type": "code",
   "metadata": {},
   "execution_count": null,
   "outputs": [],
   "source": [
    "# Варіант 3\n",
    "rate_per_hour = float(input('Ставка за годину: '))\n",
    "hours = float(input('Кількість відпрацьованих годин: '))\n",
    "salary = rate_per_hour * hours\n",
    "print('Місячна зарплата:', salary)"
   ]
  },
  {
   "cell_type": "code",
   "metadata": {},
   "execution_count": null,
   "outputs": [],
   "source": [
    "# Варіант 4\n",
    "revenue = float(input('Введіть виручку компанії: '))\n",
    "costs = float(input('Введіть витрати компанії: '))\n",
    "profit = revenue - costs\n",
    "profitability = profit / costs * 100\n",
    "print('Рентабельність виробництва (%):', profitability)"
   ]
  },
  {
   "cell_type": "code",
   "metadata": {},
   "execution_count": null,
   "outputs": [],
   "source": [
    "# Варіант 5\n",
    "loan = float(input('Введіть суму кредиту: '))\n",
    "rate = float(input('Введіть річну відсоткову ставку у форматі 0.18: '))\n",
    "interest = loan * rate\n",
    "print('Сума відсотків за рік:', interest)"
   ]
  },
  {
   "cell_type": "code",
   "metadata": {},
   "execution_count": null,
   "outputs": [],
   "source": [
    "# Варіант 6\n",
    "rent = float(input('Введіть орендну плату: '))\n",
    "salary_total = float(input('Введіть суму зарплати: '))\n",
    "revenue = float(input('Введіть щомісячну виручку: '))\n",
    "profit = revenue - rent - salary_total\n",
    "print('Місячний прибуток:', profit)"
   ]
  },
  {
   "cell_type": "code",
   "metadata": {},
   "execution_count": null,
   "outputs": [],
   "source": [
    "# Варіант 7\n",
    "investment = float(input('Сума інвестицій: '))\n",
    "sold_price = float(input('Ціна продажу: '))\n",
    "profit = sold_price - investment\n",
    "growth_percent = profit / investment * 100\n",
    "print('Прибуток:', profit, ', Зростання (%):', growth_percent)"
   ]
  },
  {
   "cell_type": "code",
   "metadata": {},
   "execution_count": null,
   "outputs": [],
   "source": [
    "# Варіант 8\n",
    "quantity = int(input('Кількість товарів: '))\n",
    "sell_price = float(input('Ціна продажу одного товару: '))\n",
    "cost_price = float(input('Собівартість одного товару: '))\n",
    "profit = (sell_price - cost_price) * quantity\n",
    "print('Загальний прибуток:', profit)"
   ]
  },
  {
   "cell_type": "code",
   "metadata": {},
   "execution_count": null,
   "outputs": [],
   "source": [
    "# Варіант 9\n",
    "ad_cost = float(input('Введіть витрати на рекламу: '))\n",
    "additional_profit = float(input('Введіть додатковий прибуток: '))\n",
    "roi = additional_profit / ad_cost * 100\n",
    "print('Рентабельність реклами (%):', roi)"
   ]
  },
  {
   "cell_type": "code",
   "metadata": {},
   "execution_count": null,
   "outputs": [],
   "source": [
    "# Варіант 10\n",
    "salary_old = float(input('Стара зарплата: '))\n",
    "increase = float(input('Відсоток підвищення у форматі 0.12: '))\n",
    "salary_new = salary_old * (1 + increase)\n",
    "print('Нова зарплата:', salary_new)"
   ]
  },
  {
   "cell_type": "markdown",
   "metadata": {},
   "source": [
    "## Контрольні питання\n",
    "Введіть відповіді на кожне питання у наступній комірці."
   ]
  },
  {
   "cell_type": "markdown",
   "metadata": {},
   "source": [
    "1. Що таке типи даних у Python та які типи використовуються для чисел, тексту та логічних значень?"
   ]
  },
  {
   "cell_type": "code",
   "metadata": {},
   "execution_count": null,
   "outputs": [],
   "source": [
    "# Ваша відповідь тут"
   ]
  },
  {
   "cell_type": "markdown",
   "metadata": {},
   "source": [
    "2. Як створювати змінні та присвоювати їм значення у Python?"
   ]
  },
  {
   "cell_type": "code",
   "metadata": {},
   "execution_count": null,
   "outputs": [],
   "source": [
    "# Ваша відповідь тут"
   ]
  },
  {
   "cell_type": "markdown",
   "metadata": {},
   "source": [
    "3. Як зчитувати дані від користувача та перетворювати їх у потрібний тип?"
   ]
  },
  {
   "cell_type": "code",
   "metadata": {},
   "execution_count": null,
   "outputs": [],
   "source": [
    "# Ваша відповідь тут"
   ]
  },
  {
   "cell_type": "markdown",
   "metadata": {},
   "source": [
    "4. Як виводити дані на екран і форматувати повідомлення з обчисленими результатами?"
   ]
  },
  {
   "cell_type": "code",
   "metadata": {},
   "execution_count": null,
   "outputs": [],
   "source": [
    "# Ваша відповідь тут"
   ]
  }
 ],
 "metadata": {
  "kernelspec": {
   "display_name": "Python 3",
   "language": "python",
   "name": "python3"
  },
  "language_info": {
   "name": "python",
   "version": "3.10"
  }
 },
 "nbformat": 4,
 "nbformat_minor": 5
}
